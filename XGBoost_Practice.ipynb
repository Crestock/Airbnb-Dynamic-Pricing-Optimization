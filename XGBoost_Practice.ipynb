{
 "cells": [
  {
   "cell_type": "code",
   "execution_count": 57,
   "metadata": {},
   "outputs": [
    {
     "data": {
      "text/html": [
       "<div>\n",
       "<style>\n",
       "    .dataframe thead tr:only-child th {\n",
       "        text-align: right;\n",
       "    }\n",
       "\n",
       "    .dataframe thead th {\n",
       "        text-align: left;\n",
       "    }\n",
       "\n",
       "    .dataframe tbody tr th {\n",
       "        vertical-align: top;\n",
       "    }\n",
       "</style>\n",
       "<table border=\"1\" class=\"dataframe\">\n",
       "  <thead>\n",
       "    <tr style=\"text-align: right;\">\n",
       "      <th></th>\n",
       "      <th>1</th>\n",
       "      <th>2</th>\n",
       "      <th>3</th>\n",
       "      <th>4</th>\n",
       "      <th>5</th>\n",
       "      <th>6</th>\n",
       "      <th>7</th>\n",
       "      <th>8</th>\n",
       "      <th>9</th>\n",
       "      <th>10</th>\n",
       "    </tr>\n",
       "  </thead>\n",
       "  <tbody>\n",
       "    <tr>\n",
       "      <th>0</th>\n",
       "      <td>'40-49'</td>\n",
       "      <td>'premeno'</td>\n",
       "      <td>'15-19'</td>\n",
       "      <td>'0-2'</td>\n",
       "      <td>'yes'</td>\n",
       "      <td>'3'</td>\n",
       "      <td>'right'</td>\n",
       "      <td>'left_up'</td>\n",
       "      <td>'no'</td>\n",
       "      <td>'recurrence-events'</td>\n",
       "    </tr>\n",
       "    <tr>\n",
       "      <th>1</th>\n",
       "      <td>'50-59'</td>\n",
       "      <td>'ge40'</td>\n",
       "      <td>'15-19'</td>\n",
       "      <td>'0-2'</td>\n",
       "      <td>'no'</td>\n",
       "      <td>'1'</td>\n",
       "      <td>'right'</td>\n",
       "      <td>'central'</td>\n",
       "      <td>'no'</td>\n",
       "      <td>'no-recurrence-events'</td>\n",
       "    </tr>\n",
       "    <tr>\n",
       "      <th>2</th>\n",
       "      <td>'50-59'</td>\n",
       "      <td>'ge40'</td>\n",
       "      <td>'35-39'</td>\n",
       "      <td>'0-2'</td>\n",
       "      <td>'no'</td>\n",
       "      <td>'2'</td>\n",
       "      <td>'left'</td>\n",
       "      <td>'left_low'</td>\n",
       "      <td>'no'</td>\n",
       "      <td>'recurrence-events'</td>\n",
       "    </tr>\n",
       "    <tr>\n",
       "      <th>3</th>\n",
       "      <td>'40-49'</td>\n",
       "      <td>'premeno'</td>\n",
       "      <td>'35-39'</td>\n",
       "      <td>'0-2'</td>\n",
       "      <td>'yes'</td>\n",
       "      <td>'3'</td>\n",
       "      <td>'right'</td>\n",
       "      <td>'left_low'</td>\n",
       "      <td>'yes'</td>\n",
       "      <td>'no-recurrence-events'</td>\n",
       "    </tr>\n",
       "    <tr>\n",
       "      <th>4</th>\n",
       "      <td>'40-49'</td>\n",
       "      <td>'premeno'</td>\n",
       "      <td>'30-34'</td>\n",
       "      <td>'3-5'</td>\n",
       "      <td>'yes'</td>\n",
       "      <td>'2'</td>\n",
       "      <td>'left'</td>\n",
       "      <td>'right_up'</td>\n",
       "      <td>'no'</td>\n",
       "      <td>'recurrence-events'</td>\n",
       "    </tr>\n",
       "  </tbody>\n",
       "</table>\n",
       "</div>"
      ],
      "text/plain": [
       "         1          2        3      4      5    6        7           8      9  \\\n",
       "0  '40-49'  'premeno'  '15-19'  '0-2'  'yes'  '3'  'right'   'left_up'   'no'   \n",
       "1  '50-59'     'ge40'  '15-19'  '0-2'   'no'  '1'  'right'   'central'   'no'   \n",
       "2  '50-59'     'ge40'  '35-39'  '0-2'   'no'  '2'   'left'  'left_low'   'no'   \n",
       "3  '40-49'  'premeno'  '35-39'  '0-2'  'yes'  '3'  'right'  'left_low'  'yes'   \n",
       "4  '40-49'  'premeno'  '30-34'  '3-5'  'yes'  '2'   'left'  'right_up'   'no'   \n",
       "\n",
       "                       10  \n",
       "0     'recurrence-events'  \n",
       "1  'no-recurrence-events'  \n",
       "2     'recurrence-events'  \n",
       "3  'no-recurrence-events'  \n",
       "4     'recurrence-events'  "
      ]
     },
     "execution_count": 57,
     "metadata": {},
     "output_type": "execute_result"
    }
   ],
   "source": [
    "import pandas as pd\n",
    "df = pd.read_csv('cancer.csv', header = None, names = ['1','2','3', '4','5','6','7','8','9','10'])\n",
    "df"
   ]
  },
  {
   "cell_type": "code",
   "execution_count": 58,
   "metadata": {
    "scrolled": true
   },
   "outputs": [
    {
     "name": "stdout",
     "output_type": "stream",
     "text": [
      "[[2]\n",
      " [0]\n",
      " [1]\n",
      " [1]\n",
      " [3]]\n"
     ]
    },
    {
     "data": {
      "text/plain": [
       "array([[ 0.,  0.,  1.,  0.],\n",
       "       [ 1.,  0.,  0.,  0.],\n",
       "       [ 0.,  1.,  0.,  0.],\n",
       "       [ 0.,  1.,  0.,  0.],\n",
       "       [ 0.,  0.,  0.,  1.]])"
      ]
     },
     "execution_count": 58,
     "metadata": {},
     "output_type": "execute_result"
    }
   ],
   "source": [
    "from sklearn.preprocessing import LabelEncoder, OneHotEncoder\n",
    "from sklearn.model_selection import train_test_split\n",
    "from sklearn.metrics import accuracy_score\n",
    "import numpy as np\n",
    "\n",
    "label_encoder = LabelEncoder()\n",
    "onehot_encoder= OneHotEncoder(sparse = False)\n",
    "y = df['10']\n",
    "X = df.drop(['10'], axis = 1)\n",
    "X.shape[1]\n",
    "encoded_x = None\n",
    "feature = label_encoder.fit_transform(X['8'])\n",
    "feature = feature.reshape(X['8'].shape[0], 1)\n",
    "print(feature)\n",
    "feature = onehot_encoder.fit_transform(feature)\n",
    "feature\n",
    "# if encoded_x is None:\n",
    "#     encoded_x = feature\n",
    "# else:\n",
    "#     encoded_x = np.concatenate((encoded_x, feature), axis = 1)\n",
    "# encoded_x"
   ]
  },
  {
   "cell_type": "code",
   "execution_count": 59,
   "metadata": {},
   "outputs": [
    {
     "name": "stdout",
     "output_type": "stream",
     "text": [
      "X shape: :  (5, 22)\n"
     ]
    },
    {
     "data": {
      "text/plain": [
       "array([[ 1.,  0.,  0.,  1.,  1.,  0.,  0.,  1.,  0.,  0.,  1.,  0.,  0.,\n",
       "         1.,  0.,  1.,  0.,  0.,  1.,  0.,  1.,  0.],\n",
       "       [ 0.,  1.,  1.,  0.,  1.,  0.,  0.,  1.,  0.,  1.,  0.,  1.,  0.,\n",
       "         0.,  0.,  1.,  1.,  0.,  0.,  0.,  1.,  0.],\n",
       "       [ 0.,  1.,  1.,  0.,  0.,  0.,  1.,  1.,  0.,  1.,  0.,  0.,  1.,\n",
       "         0.,  1.,  0.,  0.,  1.,  0.,  0.,  1.,  0.],\n",
       "       [ 1.,  0.,  0.,  1.,  0.,  0.,  1.,  1.,  0.,  0.,  1.,  0.,  0.,\n",
       "         1.,  0.,  1.,  0.,  1.,  0.,  0.,  0.,  1.],\n",
       "       [ 1.,  0.,  0.,  1.,  0.,  1.,  0.,  0.,  1.,  0.,  1.,  0.,  1.,\n",
       "         0.,  1.,  0.,  0.,  0.,  0.,  1.,  1.,  0.]])"
      ]
     },
     "execution_count": 59,
     "metadata": {},
     "output_type": "execute_result"
    }
   ],
   "source": [
    "import numpy\n",
    "from pandas import read_csv\n",
    "# from xgboost import XGBClassifier\n",
    "from sklearn.model_selection import train_test_split\n",
    "from sklearn.metrics import accuracy_score\n",
    "from sklearn.preprocessing import LabelEncoder\n",
    "from sklearn.preprocessing import OneHotEncoder\n",
    "# load data\n",
    "# data = read_csv('datasets-uci-breast-cancer.csv', header=None)\n",
    "data = df\n",
    "dataset = data.values\n",
    "# split data into X and y\n",
    "X = dataset[:,0:9]\n",
    "X = X.astype(str)\n",
    "Y = dataset[:,9]\n",
    "# encode string input values as integers\n",
    "encoded_x = None\n",
    "for i in range(0, X.shape[1]):\n",
    "\tlabel_encoder = LabelEncoder()\n",
    "\tfeature = label_encoder.fit_transform(X[:,i])\n",
    "\tfeature = feature.reshape(X.shape[0], 1)\n",
    "\tonehot_encoder = OneHotEncoder(sparse=False)\n",
    "\tfeature = onehot_encoder.fit_transform(feature)\n",
    "\tif encoded_x is None:\n",
    "\t\tencoded_x = feature\n",
    "\telse:\n",
    "\t\tencoded_x = numpy.concatenate((encoded_x, feature), axis=1)\n",
    "print(\"X shape: : \", encoded_x.shape)\n",
    "encoded_x"
   ]
  },
  {
   "cell_type": "code",
   "execution_count": 4,
   "metadata": {
    "scrolled": true
   },
   "outputs": [
    {
     "name": "stdout",
     "output_type": "stream",
     "text": [
      "['id' 'listing_url' 'scrape_id' 'last_scraped' 'name' 'summary' 'space'\n",
      " 'description' 'experiences_offered' 'neighborhood_overview' 'notes'\n",
      " 'transit' 'access' 'interaction' 'house_rules' 'thumbnail_url'\n",
      " 'medium_url' 'picture_url' 'xl_picture_url' 'host_id' 'host_url'\n",
      " 'host_name' 'host_since' 'host_location' 'host_about' 'host_response_time'\n",
      " 'host_response_rate' 'host_acceptance_rate' 'host_is_superhost'\n",
      " 'host_thumbnail_url' 'host_picture_url' 'host_neighbourhood'\n",
      " 'host_listings_count' 'host_total_listings_count' 'host_verifications'\n",
      " 'host_has_profile_pic' 'host_identity_verified' 'street' 'neighbourhood'\n",
      " 'neighbourhood_cleansed' 'neighbourhood_group_cleansed' 'city' 'state'\n",
      " 'zipcode' 'market' 'smart_location' 'country_code' 'country' 'latitude'\n",
      " 'longitude' 'is_location_exact' 'property_type' 'room_type' 'accommodates'\n",
      " 'bathrooms' 'bedrooms' 'beds' 'bed_type' 'amenities' 'square_feet' 'price'\n",
      " 'weekly_price' 'monthly_price' 'security_deposit' 'cleaning_fee'\n",
      " 'guests_included' 'extra_people' 'minimum_nights' 'maximum_nights'\n",
      " 'calendar_updated' 'has_availability' 'availability_30' 'availability_60'\n",
      " 'availability_90' 'availability_365' 'calendar_last_scraped'\n",
      " 'number_of_reviews' 'first_review' 'last_review' 'review_scores_rating'\n",
      " 'review_scores_accuracy' 'review_scores_cleanliness'\n",
      " 'review_scores_checkin' 'review_scores_communication'\n",
      " 'review_scores_location' 'review_scores_value' 'requires_license'\n",
      " 'license' 'jurisdiction_names' 'instant_bookable' 'cancellation_policy'\n",
      " 'require_guest_profile_picture' 'require_guest_phone_verification'\n",
      " 'calculated_host_listings_count' 'reviews_per_month']\n"
     ]
    }
   ],
   "source": [
    "import pandas as pd\n",
    "df = pd.read_csv('Airbnb_data/listings_SanFan.csv')\n",
    "# df['neighbourhood'].dropna(inplace=True)\n",
    "# len(df['neighbourhood'].unique())\n",
    "# a = sorted(list(df['neighbourhood'].unique()))\n",
    "print(df.columns.values)\n"
   ]
  },
  {
   "cell_type": "code",
   "execution_count": 6,
   "metadata": {},
   "outputs": [
    {
     "data": {
      "text/plain": [
       "array([ \"This is more of an apartment or flat than a room. And while it may have all the charm of a Days Inn in Wisconsin – not that there's anything wrong with that – what you lose in style you gain in functionality. It's a great private place to sleep, hang out, do some work, watch some basic cable, and make a simple meal with the microwave/refrigerator/coffee maker kitchenette; full kitchen available also if you prefer. You have easy access to everything, and it's a darn good deal for the budget traveler.\",\n",
       "       nan,\n",
       "       'This cute, spacious 2 flat in Lincoln Square is recently remodeled! The space is a Chicago-themed owner occupied 3-bedroom apartment located on the first floor. The kitchen was completely remodeled in the winter of 2016 with custom cabinets, granite countertops, and new appliances and is ready to host! It is fully equipped with a Kureig coffee maker, Vitamix blender, microwave, dishwasher, and all plates, cups, cooking utensils, and silverware are available for guest use. There is a very spacious living room with a huge front window that brings in lots of natural light! Two private bedrooms are available suited with brand new mattresses, linens, and plush towels to ensure your comfort. Both bedrooms have full closets with hangers, alarm clocks, and phone chargers are provided for your convenience. There is a sofa bed in the living room that converts to a sleeper for a third bed. Guests also have access to their own private bathroom where they can leave personal items. I live in the thi',\n",
       "       'Large living room and kitchen. In unit washer dryer. Clean and meet and comfortable',\n",
       "       \"A little bit about the building. It's a classic brick walk up style building that is over a hundred years old. Being over a hundred years old it is a one of a kind beautiful building. The apartment is on the second floor. The building has a ton of character and a few quirks, which makes for a unique stay. If you are looking for a truly classic Chicago experience, that is far from your normal tourist trap location look no further.  ----------------------------------   Your Private Bedroom Will Include  ----------------------------------     *One Queen Bed and air mattress if needed (I do not recommend the room for 3 people if you plan on staying for more than a couple of days)      *Work Desk and Chair     *TV with a HDMI Cable, Netflix, Hulu, and Amazon Prime     *Desk Lamp     *Nice Clean Sheets, and Towels     *Iron board and Iron     * Hair dryer     * Dresser     * Air Mattress if needed     *A/C in the Warmer Months and a Space Heater for the cooler months     * Extra linens locat\"], dtype=object)"
      ]
     },
     "execution_count": 6,
     "metadata": {},
     "output_type": "execute_result"
    }
   ],
   "source": [
    "df['space'].unique()[:5]"
   ]
  },
  {
   "cell_type": "code",
   "execution_count": 23,
   "metadata": {},
   "outputs": [
    {
     "data": {
      "text/plain": [
       "array(['Lincoln Square', nan, 'Uptown', 'Hyde Park', 'Kenwood',\n",
       "       'Gay Village', 'Woodlawn', 'Rogers Park', 'West Ridge', 'Dunning',\n",
       "       'Edgewater', 'Jefferson Park', 'Sauganash', 'North Park',\n",
       "       'Albany Park', 'Avondale', 'Bucktown', 'Lakeview', 'Logan Square',\n",
       "       'Kips Bay', 'Wicker Park', 'Chinatown', 'River North',\n",
       "       'Humboldt Park', 'Lincoln Park', 'Old Town', 'Ukrainian Village',\n",
       "       'West Town/Noble Square', 'River West', 'Boystown', 'Cambridge',\n",
       "       'Wrigleyville', 'Miami Beach', 'Skid Row', 'Venice',\n",
       "       'North Hollywood', 'Pilsen', 'West Loop/Greektown',\n",
       "       'Near North Side', 'Garfield Park', 'South Beach',\n",
       "       'Lower East Side', 'Bridgeport', 'Casco Antiguo', 'Loop',\n",
       "       'East Harlem', 'Galewood', 'Austin', 'Little Italy/UIC',\n",
       "       'Near West Side', 'South Loop/Printers Row', 'Andersonville',\n",
       "       'Fenway/Kenmore', 'Barrio Logan', 'Bronzeville', 'Hollywood',\n",
       "       'Norwood Park', 'Gold Coast', 'Streeterville', 'Valley Village',\n",
       "       'North Center', 'Magnificent Mile', \"O'Hare\", 'Printers Row',\n",
       "       'Kauaʻi', 'South Shore', 'South Chicago', 'South Deering',\n",
       "       'West Pullman', 'Garfield Ridge', 'Back of the Yards', 'Englewood',\n",
       "       'Roscoe Village', 'Nice', 'Malibu', 'Clearing', 'Grand Crossing',\n",
       "       'Santa Clara', 'Ashburn', 'Lefferts Garden', 'Oakland',\n",
       "       'Archer Heights', 'Downtown Miami', 'Washington Park',\n",
       "       'Portage Park', 'Irving Park', 'Belmont Cragin', 'Hermosa',\n",
       "       'Bushwick', 'Little Village', 'North Lawndale', 'Armour Square',\n",
       "       'Chatham', 'Calumet Heights', 'Roseland', 'Pullman',\n",
       "       'Brighton Park', 'McKinley Park', 'West Elsdon', 'West Lawn',\n",
       "       'Auburn Gresham', 'Beverly', 'Los Feliz', 'Morgan Park',\n",
       "       'Edison Park'], dtype=object)"
      ]
     },
     "execution_count": 23,
     "metadata": {},
     "output_type": "execute_result"
    }
   ],
   "source": [
    "df['host_neighbourhood'].unique()"
   ]
  },
  {
   "cell_type": "code",
   "execution_count": 24,
   "metadata": {},
   "outputs": [
    {
     "data": {
      "text/plain": [
       "0          Private room\n",
       "1          Private room\n",
       "2          Private room\n",
       "3          Private room\n",
       "4          Private room\n",
       "5          Private room\n",
       "6          Private room\n",
       "7          Private room\n",
       "8       Entire home/apt\n",
       "9       Entire home/apt\n",
       "10      Entire home/apt\n",
       "11      Entire home/apt\n",
       "12      Entire home/apt\n",
       "13      Entire home/apt\n",
       "14      Entire home/apt\n",
       "15      Entire home/apt\n",
       "16      Entire home/apt\n",
       "17      Entire home/apt\n",
       "18      Entire home/apt\n",
       "19      Entire home/apt\n",
       "20      Entire home/apt\n",
       "21      Entire home/apt\n",
       "22      Entire home/apt\n",
       "23      Entire home/apt\n",
       "24      Entire home/apt\n",
       "25      Entire home/apt\n",
       "26         Private room\n",
       "27         Private room\n",
       "28      Entire home/apt\n",
       "29      Entire home/apt\n",
       "             ...       \n",
       "5177        Shared room\n",
       "5178       Private room\n",
       "5179       Private room\n",
       "5180        Shared room\n",
       "5181       Private room\n",
       "5182       Private room\n",
       "5183       Private room\n",
       "5184        Shared room\n",
       "5185       Private room\n",
       "5186       Private room\n",
       "5187       Private room\n",
       "5188       Private room\n",
       "5189       Private room\n",
       "5190       Private room\n",
       "5191    Entire home/apt\n",
       "5192       Private room\n",
       "5193       Private room\n",
       "5194    Entire home/apt\n",
       "5195       Private room\n",
       "5196       Private room\n",
       "5197    Entire home/apt\n",
       "5198       Private room\n",
       "5199    Entire home/apt\n",
       "5200    Entire home/apt\n",
       "5201    Entire home/apt\n",
       "5202    Entire home/apt\n",
       "5203       Private room\n",
       "5204       Private room\n",
       "5205    Entire home/apt\n",
       "5206    Entire home/apt\n",
       "Name: room_type, Length: 5207, dtype: object"
      ]
     },
     "execution_count": 24,
     "metadata": {},
     "output_type": "execute_result"
    }
   ],
   "source": [
    "df['room_type']"
   ]
  },
  {
   "cell_type": "code",
   "execution_count": 36,
   "metadata": {},
   "outputs": [
    {
     "data": {
      "text/plain": [
       "array(['CRIM', 'ZN', 'INDUS', 'CHAS', 'NOX', 'RM', 'AGE', 'DIS', 'RAD',\n",
       "       'TAX', 'PTRATIO', 'B', 'LSTAT'],\n",
       "      dtype='<U7')"
      ]
     },
     "execution_count": 36,
     "metadata": {},
     "output_type": "execute_result"
    }
   ],
   "source": [
    "from sklearn.cross_validation import ShuffleSplit\n",
    "from sklearn.metrics import r2_score\n",
    "from collections import defaultdict\n",
    "from sklearn.datasets import load_boston\n",
    "from sklearn.ensemble import RandomForestRegressor\n",
    "import numpy as np\n",
    "#Load boston housing dataset as an example\n",
    "boston = load_boston()\n",
    "\n",
    "X = boston[\"data\"]\n",
    "Y = boston[\"target\"]\n",
    " \n",
    "rf = RandomForestRegressor()\n",
    "scores = defaultdict(list)\n",
    "names = boston[\"feature_names\"]\n",
    "names"
   ]
  },
  {
   "cell_type": "code",
   "execution_count": 37,
   "metadata": {},
   "outputs": [
    {
     "data": {
      "text/plain": [
       "array([ 24. ,  21.6,  34.7,  33.4,  36.2,  28.7,  22.9,  27.1,  16.5,\n",
       "        18.9,  15. ,  18.9,  21.7,  20.4,  18.2,  19.9,  23.1,  17.5,\n",
       "        20.2,  18.2,  13.6,  19.6,  15.2,  14.5,  15.6,  13.9,  16.6,\n",
       "        14.8,  18.4,  21. ,  12.7,  14.5,  13.2,  13.1,  13.5,  18.9,\n",
       "        20. ,  21. ,  24.7,  30.8,  34.9,  26.6,  25.3,  24.7,  21.2,\n",
       "        19.3,  20. ,  16.6,  14.4,  19.4,  19.7,  20.5,  25. ,  23.4,\n",
       "        18.9,  35.4,  24.7,  31.6,  23.3,  19.6,  18.7,  16. ,  22.2,\n",
       "        25. ,  33. ,  23.5,  19.4,  22. ,  17.4,  20.9,  24.2,  21.7,\n",
       "        22.8,  23.4,  24.1,  21.4,  20. ,  20.8,  21.2,  20.3,  28. ,\n",
       "        23.9,  24.8,  22.9,  23.9,  26.6,  22.5,  22.2,  23.6,  28.7,\n",
       "        22.6,  22. ,  22.9,  25. ,  20.6,  28.4,  21.4,  38.7,  43.8,\n",
       "        33.2,  27.5,  26.5,  18.6,  19.3,  20.1,  19.5,  19.5,  20.4,\n",
       "        19.8,  19.4,  21.7,  22.8,  18.8,  18.7,  18.5,  18.3,  21.2,\n",
       "        19.2,  20.4,  19.3,  22. ,  20.3,  20.5,  17.3,  18.8,  21.4,\n",
       "        15.7,  16.2,  18. ,  14.3,  19.2,  19.6,  23. ,  18.4,  15.6,\n",
       "        18.1,  17.4,  17.1,  13.3,  17.8,  14. ,  14.4,  13.4,  15.6,\n",
       "        11.8,  13.8,  15.6,  14.6,  17.8,  15.4,  21.5,  19.6,  15.3,\n",
       "        19.4,  17. ,  15.6,  13.1,  41.3,  24.3,  23.3,  27. ,  50. ,\n",
       "        50. ,  50. ,  22.7,  25. ,  50. ,  23.8,  23.8,  22.3,  17.4,\n",
       "        19.1,  23.1,  23.6,  22.6,  29.4,  23.2,  24.6,  29.9,  37.2,\n",
       "        39.8,  36.2,  37.9,  32.5,  26.4,  29.6,  50. ,  32. ,  29.8,\n",
       "        34.9,  37. ,  30.5,  36.4,  31.1,  29.1,  50. ,  33.3,  30.3,\n",
       "        34.6,  34.9,  32.9,  24.1,  42.3,  48.5,  50. ,  22.6,  24.4,\n",
       "        22.5,  24.4,  20. ,  21.7,  19.3,  22.4,  28.1,  23.7,  25. ,\n",
       "        23.3,  28.7,  21.5,  23. ,  26.7,  21.7,  27.5,  30.1,  44.8,\n",
       "        50. ,  37.6,  31.6,  46.7,  31.5,  24.3,  31.7,  41.7,  48.3,\n",
       "        29. ,  24. ,  25.1,  31.5,  23.7,  23.3,  22. ,  20.1,  22.2,\n",
       "        23.7,  17.6,  18.5,  24.3,  20.5,  24.5,  26.2,  24.4,  24.8,\n",
       "        29.6,  42.8,  21.9,  20.9,  44. ,  50. ,  36. ,  30.1,  33.8,\n",
       "        43.1,  48.8,  31. ,  36.5,  22.8,  30.7,  50. ,  43.5,  20.7,\n",
       "        21.1,  25.2,  24.4,  35.2,  32.4,  32. ,  33.2,  33.1,  29.1,\n",
       "        35.1,  45.4,  35.4,  46. ,  50. ,  32.2,  22. ,  20.1,  23.2,\n",
       "        22.3,  24.8,  28.5,  37.3,  27.9,  23.9,  21.7,  28.6,  27.1,\n",
       "        20.3,  22.5,  29. ,  24.8,  22. ,  26.4,  33.1,  36.1,  28.4,\n",
       "        33.4,  28.2,  22.8,  20.3,  16.1,  22.1,  19.4,  21.6,  23.8,\n",
       "        16.2,  17.8,  19.8,  23.1,  21. ,  23.8,  23.1,  20.4,  18.5,\n",
       "        25. ,  24.6,  23. ,  22.2,  19.3,  22.6,  19.8,  17.1,  19.4,\n",
       "        22.2,  20.7,  21.1,  19.5,  18.5,  20.6,  19. ,  18.7,  32.7,\n",
       "        16.5,  23.9,  31.2,  17.5,  17.2,  23.1,  24.5,  26.6,  22.9,\n",
       "        24.1,  18.6,  30.1,  18.2,  20.6,  17.8,  21.7,  22.7,  22.6,\n",
       "        25. ,  19.9,  20.8,  16.8,  21.9,  27.5,  21.9,  23.1,  50. ,\n",
       "        50. ,  50. ,  50. ,  50. ,  13.8,  13.8,  15. ,  13.9,  13.3,\n",
       "        13.1,  10.2,  10.4,  10.9,  11.3,  12.3,   8.8,   7.2,  10.5,\n",
       "         7.4,  10.2,  11.5,  15.1,  23.2,   9.7,  13.8,  12.7,  13.1,\n",
       "        12.5,   8.5,   5. ,   6.3,   5.6,   7.2,  12.1,   8.3,   8.5,\n",
       "         5. ,  11.9,  27.9,  17.2,  27.5,  15. ,  17.2,  17.9,  16.3,\n",
       "         7. ,   7.2,   7.5,  10.4,   8.8,   8.4,  16.7,  14.2,  20.8,\n",
       "        13.4,  11.7,   8.3,  10.2,  10.9,  11. ,   9.5,  14.5,  14.1,\n",
       "        16.1,  14.3,  11.7,  13.4,   9.6,   8.7,   8.4,  12.8,  10.5,\n",
       "        17.1,  18.4,  15.4,  10.8,  11.8,  14.9,  12.6,  14.1,  13. ,\n",
       "        13.4,  15.2,  16.1,  17.8,  14.9,  14.1,  12.7,  13.5,  14.9,\n",
       "        20. ,  16.4,  17.7,  19.5,  20.2,  21.4,  19.9,  19. ,  19.1,\n",
       "        19.1,  20.1,  19.9,  19.6,  23.2,  29.8,  13.8,  13.3,  16.7,\n",
       "        12. ,  14.6,  21.4,  23. ,  23.7,  25. ,  21.8,  20.6,  21.2,\n",
       "        19.1,  20.6,  15.2,   7. ,   8.1,  13.6,  20.1,  21.8,  24.5,\n",
       "        23.1,  19.7,  18.3,  21.2,  17.5,  16.8,  22.4,  20.6,  23.9,\n",
       "        22. ,  11.9])"
      ]
     },
     "execution_count": 37,
     "metadata": {},
     "output_type": "execute_result"
    }
   ],
   "source": [
    "Y"
   ]
  },
  {
   "cell_type": "code",
   "execution_count": null,
   "metadata": {
    "collapsed": true
   },
   "outputs": [],
   "source": []
  }
 ],
 "metadata": {
  "kernelspec": {
   "display_name": "Python 3",
   "language": "python",
   "name": "python3"
  },
  "language_info": {
   "codemirror_mode": {
    "name": "ipython",
    "version": 3
   },
   "file_extension": ".py",
   "mimetype": "text/x-python",
   "name": "python",
   "nbconvert_exporter": "python",
   "pygments_lexer": "ipython3",
   "version": "3.6.2"
  }
 },
 "nbformat": 4,
 "nbformat_minor": 2
}
